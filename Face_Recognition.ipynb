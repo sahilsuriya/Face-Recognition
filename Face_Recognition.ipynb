{
 "cells": [
  {
   "cell_type": "code",
   "execution_count": 7,
   "id": "0eae3b73-a6ab-4f98-aad2-1bcdf38ab12c",
   "metadata": {},
   "outputs": [],
   "source": [
    "import face_recognition\n",
    "import cv2\n",
    "import numpy as np\n",
    "import os\n",
    "from datetime import datetime"
   ]
  },
  {
   "cell_type": "code",
   "execution_count": 14,
   "id": "96090ffe-ac85-4a67-b81a-423432142c0f",
   "metadata": {},
   "outputs": [],
   "source": [
    "class FaceRecognitionSystem:\n",
    "    def __init__(self, known_faces_dir=\"known_faces\"):\n",
    "        self.known_faces_dir = known_faces_dir\n",
    "        self.known_face_encodings = []\n",
    "        self.known_face_names = []\n",
    "        self.load_known_faces()\n",
    "        \n",
    "    def load_known_faces(self):\n",
    "        \"\"\"Load and encode known faces from the directory\"\"\"\n",
    "        for filename in os.listdir(self.known_faces_dir):\n",
    "            if filename.endswith((\".jpg\", \".jpeg\", \".png\")):\n",
    "                # Load the image\n",
    "                image_path = os.path.join(self.known_faces_dir, filename)\n",
    "                image = face_recognition.load_image_file(image_path)\n",
    "                \n",
    "                # Get face encoding\n",
    "                face_encoding = face_recognition.face_encodings(image)[0]\n",
    "                \n",
    "                # Store encoding and name (filename without extension)\n",
    "                self.known_face_encodings.append(face_encoding)\n",
    "                self.known_face_names.append(os.path.splitext(filename)[0])\n",
    "                \n",
    "        print(f\"Loaded {len(self.known_face_encodings)} known faces\")\n",
    "    \n",
    "    def process_frame(self, frame):\n",
    "        \"\"\"Process a single frame and return the frame with annotations\"\"\"\n",
    "        # Resize frame for faster face recognition\n",
    "        small_frame = cv2.resize(frame, (0, 0), fx=0.25, fy=0.25)\n",
    "        \n",
    "        # Convert BGR to RGB\n",
    "        rgb_small_frame = cv2.cvtColor(small_frame, cv2.COLOR_BGR2RGB)\n",
    "        \n",
    "        # Find faces in the frame\n",
    "        face_locations = face_recognition.face_locations(rgb_small_frame)\n",
    "        face_encodings = face_recognition.face_encodings(rgb_small_frame, face_locations)\n",
    "        \n",
    "        face_names = []\n",
    "        for face_encoding in face_encodings:\n",
    "            # Check if the face matches any known face\n",
    "            matches = face_recognition.compare_faces(self.known_face_encodings, face_encoding, tolerance=0.6)\n",
    "            name = \"Unknown\"\n",
    "            \n",
    "            if True in matches:\n",
    "                # Use the first match\n",
    "                first_match_index = matches.index(True)\n",
    "                name = self.known_face_names[first_match_index]\n",
    "            \n",
    "            face_names.append(name)\n",
    "        \n",
    "        # Draw results on the frame\n",
    "        for (top, right, bottom, left), name in zip(face_locations, face_names):\n",
    "            # Scale back up face locations\n",
    "            top *= 4\n",
    "            right *= 4\n",
    "            bottom *= 4\n",
    "            left *= 4\n",
    "            \n",
    "            # Draw rectangle around face\n",
    "            cv2.rectangle(frame, (left, top), (right, bottom), (0, 255, 0), 2)\n",
    "            \n",
    "            # Draw label below face\n",
    "            cv2.rectangle(frame, (left, bottom - 35), (right, bottom), (0, 255, 0), cv2.FILLED)\n",
    "            cv2.putText(frame, name, (left + 6, bottom - 6), \n",
    "                        cv2.FONT_HERSHEY_DUPLEX, 0.6, (255, 255, 255), 1)\n",
    "            \n",
    "        return frame\n",
    "    \n",
    "    def run_recognition(self):\n",
    "        \"\"\"Run face recognition on webcam feed\"\"\"\n",
    "        video_capture = cv2.VideoCapture(0)\n",
    "\n",
    "        try:\n",
    "            while True:\n",
    "                ret, frame = video_capture.read()\n",
    "                if not ret:\n",
    "                    print(\"Failed to grab frame\")\n",
    "                    break\n",
    "                    \n",
    "                # Process and display frame\n",
    "                processed_frame = self.process_frame(frame)\n",
    "                cv2.imshow('Face Recognition', processed_frame)\n",
    "                \n",
    "                # Break loop with 'q'\n",
    "                if cv2.waitKey(1) & 0xFF == ord('q'):\n",
    "                    print(\"Exited\")\n",
    "                    break\n",
    "                    \n",
    "        finally:\n",
    "            video_capture.release()\n",
    "            cv2.destroyAllWindows()\n",
    "    \n",
    "    def add_known_face(self, image_path, name):\n",
    "        \"\"\"Add a new known face to the system\"\"\"\n",
    "        # Load and encode the face\n",
    "        image = face_recognition.load_image_file(image_path)\n",
    "        face_encoding = face_recognition.face_encodings(image)[0]\n",
    "        \n",
    "        # Save the image to known_faces directory\n",
    "        extension = os.path.splitext(image_path)[1]\n",
    "        new_path = os.path.join(self.known_faces_dir, f\"{name}{extension}\")\n",
    "        os.makedirs(self.known_faces_dir, exist_ok=True)\n",
    "        cv2.imwrite(new_path, cv2.imread(image_path))\n",
    "        \n",
    "        # Add to known faces\n",
    "        self.known_face_encodings.append(face_encoding)\n",
    "        self.known_face_names.append(name)\n",
    "        print(f\"Added {name} to known faces\")\n"
   ]
  },
  {
   "cell_type": "code",
   "execution_count": 17,
   "id": "13ab17cf-3cd2-423a-bdea-a66fdbbd699a",
   "metadata": {},
   "outputs": [
    {
     "name": "stdout",
     "output_type": "stream",
     "text": [
      "Loaded 1 known faces\n",
      "Added Sahil to known faces\n"
     ]
    }
   ],
   "source": [
    "face_system = FaceRecognitionSystem()\n",
    "face_system.add_known_face(\"C:\\\\Users\\\\IT WORLD\\\\Desktop\\\\known_faces\\\\Sahil.jpg\", \"Sahil\")"
   ]
  },
  {
   "cell_type": "code",
   "execution_count": 18,
   "id": "2cbd2314-11e5-4a0d-b9fb-df318e861cdc",
   "metadata": {},
   "outputs": [
    {
     "name": "stdout",
     "output_type": "stream",
     "text": [
      "Exited\n"
     ]
    }
   ],
   "source": [
    "face_system.run_recognition()"
   ]
  },
  {
   "cell_type": "code",
   "execution_count": null,
   "id": "bc8f623a-2e4a-4b06-a36c-9f737566e68e",
   "metadata": {},
   "outputs": [],
   "source": []
  },
  {
   "cell_type": "code",
   "execution_count": null,
   "id": "385d56a7-421e-4905-9c0b-b8124de4b58e",
   "metadata": {},
   "outputs": [],
   "source": []
  }
 ],
 "metadata": {
  "kernelspec": {
   "display_name": "Python 3 (ipykernel)",
   "language": "python",
   "name": "python3"
  },
  "language_info": {
   "codemirror_mode": {
    "name": "ipython",
    "version": 3
   },
   "file_extension": ".py",
   "mimetype": "text/x-python",
   "name": "python",
   "nbconvert_exporter": "python",
   "pygments_lexer": "ipython3",
   "version": "3.12.4"
  }
 },
 "nbformat": 4,
 "nbformat_minor": 5
}
